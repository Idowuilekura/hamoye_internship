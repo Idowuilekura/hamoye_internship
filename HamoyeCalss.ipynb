{
  "nbformat": 4,
  "nbformat_minor": 0,
  "metadata": {
    "colab": {
      "name": "HamoyeCalss.ipynb",
      "provenance": [],
      "authorship_tag": "ABX9TyNXt4ZPHlZxgSmu2sXS9BW2",
      "include_colab_link": true
    },
    "kernelspec": {
      "name": "python3",
      "display_name": "Python 3"
    }
  },
  "cells": [
    {
      "cell_type": "markdown",
      "metadata": {
        "id": "view-in-github",
        "colab_type": "text"
      },
      "source": [
        "<a href=\"https://colab.research.google.com/github/Idowuilekura/hamoye_internship/blob/master/HamoyeCalss.ipynb\" target=\"_parent\"><img src=\"https://colab.research.google.com/assets/colab-badge.svg\" alt=\"Open In Colab\"/></a>"
      ]
    },
    {
      "cell_type": "code",
      "metadata": {
        "id": "JDkUGLQpOoh9",
        "colab_type": "code",
        "colab": {}
      },
      "source": [
        "import pandas as pd\n",
        "import numpy as np\n",
        "import sklearn"
      ],
      "execution_count": 1,
      "outputs": []
    },
    {
      "cell_type": "code",
      "metadata": {
        "id": "qx5IbWjzPRS4",
        "colab_type": "code",
        "colab": {
          "base_uri": "https://localhost:8080/",
          "height": 52
        },
        "outputId": "37773321-c006-49f5-e5c9-af5ac0a6e8da"
      },
      "source": [
        "hamoye_dataset = pd.read_csv(\"https://query.data.world/s/wh6j7rxy2hvrn4ml75ci62apk5hgae\")"
      ],
      "execution_count": 2,
      "outputs": [
        {
          "output_type": "stream",
          "text": [
            "/usr/local/lib/python3.6/dist-packages/IPython/core/interactiveshell.py:2718: DtypeWarning: Columns (6) have mixed types.Specify dtype option on import or set low_memory=False.\n",
            "  interactivity=interactivity, compiler=compiler, result=result)\n"
          ],
          "name": "stderr"
        }
      ]
    },
    {
      "cell_type": "code",
      "metadata": {
        "id": "gVBGUo-7Ph-8",
        "colab_type": "code",
        "colab": {
          "base_uri": "https://localhost:8080/",
          "height": 123
        },
        "outputId": "06d995a1-4c0f-4373-a889-63bc441de819"
      },
      "source": [
        "#Checking distribution of target variable which is qscore\n",
        "hamoye_dataset.QScore.value_counts()"
      ],
      "execution_count": 7,
      "outputs": [
        {
          "output_type": "execute_result",
          "data": {
            "text/plain": [
              "3A    51481\n",
              "2A    10576\n",
              "2B    10096\n",
              "1A       16\n",
              "1B       16\n",
              "Name: QScore, dtype: int64"
            ]
          },
          "metadata": {
            "tags": []
          },
          "execution_count": 7
        }
      ]
    },
    {
      "cell_type": "code",
      "metadata": {
        "id": "kPOXff6kQCaU",
        "colab_type": "code",
        "colab": {}
      },
      "source": [
        "hamoye_dataset.dropna(inplace=True)"
      ],
      "execution_count": 9,
      "outputs": []
    },
    {
      "cell_type": "code",
      "metadata": {
        "id": "75Rm538hQKuV",
        "colab_type": "code",
        "colab": {
          "base_uri": "https://localhost:8080/",
          "height": 247
        },
        "outputId": "8167cd28-6689-40b4-d617-afeebbe41d09"
      },
      "source": [
        "hamoye_dataset.isna().sum()"
      ],
      "execution_count": 10,
      "outputs": [
        {
          "output_type": "execute_result",
          "data": {
            "text/plain": [
              "country           0\n",
              "year              0\n",
              "country_code      0\n",
              "record            0\n",
              "crop_land         0\n",
              "grazing_land      0\n",
              "forest_land       0\n",
              "fishing_ground    0\n",
              "built_up_land     0\n",
              "carbon            0\n",
              "total             0\n",
              "QScore            0\n",
              "dtype: int64"
            ]
          },
          "metadata": {
            "tags": []
          },
          "execution_count": 10
        }
      ]
    },
    {
      "cell_type": "code",
      "metadata": {
        "id": "kroZOYxbQQsD",
        "colab_type": "code",
        "colab": {
          "base_uri": "https://localhost:8080/",
          "height": 87
        },
        "outputId": "b5a3f901-55b4-4ac7-ae12-ec4bf35189f4"
      },
      "source": [
        "hamoye_dataset.QScore.value_counts()"
      ],
      "execution_count": 11,
      "outputs": [
        {
          "output_type": "execute_result",
          "data": {
            "text/plain": [
              "3A    51473\n",
              "2A      224\n",
              "1A       16\n",
              "Name: QScore, dtype: int64"
            ]
          },
          "metadata": {
            "tags": []
          },
          "execution_count": 11
        }
      ]
    },
    {
      "cell_type": "code",
      "metadata": {
        "id": "J_DpZWFAQeB6",
        "colab_type": "code",
        "colab": {
          "base_uri": "https://localhost:8080/",
          "height": 70
        },
        "outputId": "15c70a30-f2ae-4781-c1e4-344b9181bb0c"
      },
      "source": [
        "hamoye_dataset.QScore = hamoye_dataset.QScore.replace(['1A'],'2A')\n",
        "hamoye_dataset.QScore.value_counts()"
      ],
      "execution_count": 13,
      "outputs": [
        {
          "output_type": "execute_result",
          "data": {
            "text/plain": [
              "3A    51473\n",
              "2A      240\n",
              "Name: QScore, dtype: int64"
            ]
          },
          "metadata": {
            "tags": []
          },
          "execution_count": 13
        }
      ]
    },
    {
      "cell_type": "code",
      "metadata": {
        "id": "bCZF66juRHVv",
        "colab_type": "code",
        "colab": {}
      },
      "source": [
        "df = hamoye_dataset\n",
        "df_2A = df[df.QScore=='2A']\n",
        "df_3A = df[df.QScore=='3A'].sample(350)\n",
        "data_df = df_2A.append(df_3A)\n"
      ],
      "execution_count": 16,
      "outputs": []
    },
    {
      "cell_type": "code",
      "metadata": {
        "id": "jT_Q083ERskY",
        "colab_type": "code",
        "colab": {
          "base_uri": "https://localhost:8080/",
          "height": 70
        },
        "outputId": "d98058d7-414c-446c-9b2e-9a48008e7672"
      },
      "source": [
        "data_df.QScore.value_counts()"
      ],
      "execution_count": 17,
      "outputs": [
        {
          "output_type": "execute_result",
          "data": {
            "text/plain": [
              "3A    350\n",
              "2A    240\n",
              "Name: QScore, dtype: int64"
            ]
          },
          "metadata": {
            "tags": []
          },
          "execution_count": 17
        }
      ]
    },
    {
      "cell_type": "code",
      "metadata": {
        "id": "-4VR8BajRyv2",
        "colab_type": "code",
        "colab": {
          "base_uri": "https://localhost:8080/",
          "height": 34
        },
        "outputId": "c6e96214-b91d-42f2-d34d-62fd9a71363c"
      },
      "source": [
        "#more preprocessing\n",
        "data_df = sklearn.utils.shuffle(data_df)\n",
        "data_df = data_df.reset_index(drop=True)\n",
        "data_df.shape"
      ],
      "execution_count": 22,
      "outputs": [
        {
          "output_type": "execute_result",
          "data": {
            "text/plain": [
              "(590, 9)"
            ]
          },
          "metadata": {
            "tags": []
          },
          "execution_count": 22
        }
      ]
    },
    {
      "cell_type": "code",
      "metadata": {
        "id": "rAZocUn6TkSr",
        "colab_type": "code",
        "colab": {
          "base_uri": "https://localhost:8080/",
          "height": 70
        },
        "outputId": "52ea6bc1-3bcb-4c7c-f2f1-06d0c79d4f47"
      },
      "source": [
        "data_df.QScore.value_counts()"
      ],
      "execution_count": 23,
      "outputs": [
        {
          "output_type": "execute_result",
          "data": {
            "text/plain": [
              "3A    350\n",
              "2A    240\n",
              "Name: QScore, dtype: int64"
            ]
          },
          "metadata": {
            "tags": []
          },
          "execution_count": 23
        }
      ]
    },
    {
      "cell_type": "code",
      "metadata": {
        "id": "-dpeD18RTrb7",
        "colab_type": "code",
        "colab": {}
      },
      "source": [
        "X = data_df.drop(columns='QScore')\n",
        "y= data_df['QScore']"
      ],
      "execution_count": 25,
      "outputs": []
    },
    {
      "cell_type": "code",
      "metadata": {
        "id": "ENfFCMPwUg34",
        "colab_type": "code",
        "colab": {
          "base_uri": "https://localhost:8080/",
          "height": 70
        },
        "outputId": "b0e0e101-69a7-4dde-be1a-ac7600618ce9"
      },
      "source": [
        "from sklearn.model_selection import train_test_split\n",
        "x_train,x_test,y_train,y_test= train_test_split(X,y,test_size=0.3,random_state =0)\n",
        "y_train.value_counts()"
      ],
      "execution_count": 33,
      "outputs": [
        {
          "output_type": "execute_result",
          "data": {
            "text/plain": [
              "3A    251\n",
              "2A    162\n",
              "Name: QScore, dtype: int64"
            ]
          },
          "metadata": {
            "tags": []
          },
          "execution_count": 33
        }
      ]
    },
    {
      "cell_type": "markdown",
      "metadata": {
        "id": "eeG0v17DVXpD",
        "colab_type": "text"
      },
      "source": [
        "There is still an imbalance in the class distribution, for this we will SMOTE only on the training data to handle this"
      ]
    },
    {
      "cell_type": "code",
      "metadata": {
        "id": "HiutZGoTU4EX",
        "colab_type": "code",
        "colab": {
          "base_uri": "https://localhost:8080/",
          "height": 70
        },
        "outputId": "d6249725-4c35-47b3-ae8b-55c7bc24d120"
      },
      "source": [
        "y_test.value_counts()"
      ],
      "execution_count": 27,
      "outputs": [
        {
          "output_type": "execute_result",
          "data": {
            "text/plain": [
              "3A    99\n",
              "2A    78\n",
              "Name: QScore, dtype: int64"
            ]
          },
          "metadata": {
            "tags": []
          },
          "execution_count": 27
        }
      ]
    },
    {
      "cell_type": "code",
      "metadata": {
        "id": "qNeugOWpVn9c",
        "colab_type": "code",
        "colab": {
          "base_uri": "https://localhost:8080/",
          "height": 123
        },
        "outputId": "32bdcdd1-a736-48d2-d61a-e8250fd910ae"
      },
      "source": [
        "from sklearn.preprocessing import LabelEncoder\n",
        "label_encoder = LabelEncoder()\n",
        "x_train.record = label_encoder.fit_transform(x_train.record)\n",
        "x_test.record = label_encoder.fit_transform(x_test.record)"
      ],
      "execution_count": 34,
      "outputs": [
        {
          "output_type": "stream",
          "text": [
            "/usr/local/lib/python3.6/dist-packages/pandas/core/generic.py:5303: SettingWithCopyWarning: \n",
            "A value is trying to be set on a copy of a slice from a DataFrame.\n",
            "Try using .loc[row_indexer,col_indexer] = value instead\n",
            "\n",
            "See the caveats in the documentation: https://pandas.pydata.org/pandas-docs/stable/user_guide/indexing.html#returning-a-view-versus-a-copy\n",
            "  self[name] = value\n"
          ],
          "name": "stderr"
        }
      ]
    },
    {
      "cell_type": "code",
      "metadata": {
        "id": "f8FWfooLXJ0P",
        "colab_type": "code",
        "colab": {
          "base_uri": "https://localhost:8080/",
          "height": 72
        },
        "outputId": "d6916ffa-b4df-4b98-a87b-8f7be9ffb67d"
      },
      "source": [
        "import imblearn \n",
        "from imblearn.over_sampling import SMOTE\n",
        "smote = SMOTE(random_state =1)\n",
        "x_train_balanced,y_balanced = smote.fit_sample(x_train,y_train)"
      ],
      "execution_count": 35,
      "outputs": [
        {
          "output_type": "stream",
          "text": [
            "/usr/local/lib/python3.6/dist-packages/sklearn/utils/deprecation.py:87: FutureWarning: Function safe_indexing is deprecated; safe_indexing is deprecated in version 0.22 and will be removed in version 0.24.\n",
            "  warnings.warn(msg, category=FutureWarning)\n"
          ],
          "name": "stderr"
        }
      ]
    },
    {
      "cell_type": "code",
      "metadata": {
        "id": "DuFdew6IXww4",
        "colab_type": "code",
        "colab": {
          "base_uri": "https://localhost:8080/",
          "height": 34
        },
        "outputId": "33bc872a-5fe4-4e0a-b7c6-7457e2eaf816"
      },
      "source": [
        "print(type(x_train_balanced))"
      ],
      "execution_count": 38,
      "outputs": [
        {
          "output_type": "stream",
          "text": [
            "<class 'numpy.ndarray'>\n"
          ],
          "name": "stdout"
        }
      ]
    },
    {
      "cell_type": "code",
      "metadata": {
        "id": "HcQ7D8ekX6Re",
        "colab_type": "code",
        "colab": {
          "base_uri": "https://localhost:8080/",
          "height": 70
        },
        "outputId": "b9ac2106-7f59-417b-b418-33854ab33d20"
      },
      "source": [
        "pd.Series(y_balanced).value_counts()"
      ],
      "execution_count": 45,
      "outputs": [
        {
          "output_type": "execute_result",
          "data": {
            "text/plain": [
              "3A    251\n",
              "2A    251\n",
              "dtype: int64"
            ]
          },
          "metadata": {
            "tags": []
          },
          "execution_count": 45
        }
      ]
    },
    {
      "cell_type": "code",
      "metadata": {
        "id": "SXVVjug2YZgw",
        "colab_type": "code",
        "colab": {}
      },
      "source": [
        "x_train_balanced = pd.DataFrame(x_train_balanced,columns=x_train.columns)"
      ],
      "execution_count": 46,
      "outputs": []
    },
    {
      "cell_type": "code",
      "metadata": {
        "id": "A94KGpdTYj1F",
        "colab_type": "code",
        "colab": {}
      },
      "source": [
        "from sklearn.preprocessing import MinMaxScaler\n",
        "scaler = MinMaxScaler()\n",
        "normalised_train_df = scaler.fit_transform(x_train_balanced.drop(columns=['record']))\n",
        "normalised_train_df =pd.DataFrame(normalised_train_df,columns=x_train_balanced.drop(['record'],axis=1).columns)\n",
        "normalised_train_df['record'] = x_train_balanced['record']\n",
        "x_test = x_test.reset_index(drop=True)\n",
        "normalised_test_df = scaler.transform(x_test.drop(columns=['record']))\n",
        "normalised_test_df = pd.DataFrame(normalised_test_df,columns=x_test.drop(columns=['record']).columns)\n",
        "normalised_test_df['record'] = x_test['record']"
      ],
      "execution_count": 48,
      "outputs": []
    },
    {
      "cell_type": "code",
      "metadata": {
        "id": "cJxWFk1paZsi",
        "colab_type": "code",
        "colab": {
          "base_uri": "https://localhost:8080/",
          "height": 105
        },
        "outputId": "35ea5e8c-9298-4949-f41d-9ecd85e34d3b"
      },
      "source": [
        "from sklearn.linear_model import LogisticRegression\n",
        "log_reg = LogisticRegression()\n",
        "log_reg.fit(normalised_train_df,y_balanced)"
      ],
      "execution_count": 50,
      "outputs": [
        {
          "output_type": "execute_result",
          "data": {
            "text/plain": [
              "LogisticRegression(C=1.0, class_weight=None, dual=False, fit_intercept=True,\n",
              "                   intercept_scaling=1, l1_ratio=None, max_iter=100,\n",
              "                   multi_class='auto', n_jobs=None, penalty='l2',\n",
              "                   random_state=None, solver='lbfgs', tol=0.0001, verbose=0,\n",
              "                   warm_start=False)"
            ]
          },
          "metadata": {
            "tags": []
          },
          "execution_count": 50
        }
      ]
    },
    {
      "cell_type": "markdown",
      "metadata": {
        "id": "N_GbNNRwdsQr",
        "colab_type": "text"
      },
      "source": [
        "Measuring Classification Performance "
      ]
    },
    {
      "cell_type": "code",
      "metadata": {
        "id": "nXWtKlNFav9a",
        "colab_type": "code",
        "colab": {
          "base_uri": "https://localhost:8080/",
          "height": 34
        },
        "outputId": "8512e819-18b1-44dd-819f-197b9e3f8142"
      },
      "source": [
        "# cross-validation and accuracy\n",
        "from sklearn.model_selection import cross_val_score\n",
        "scores =cross_val_score(log_reg,normalised_train_df,y_balanced,cv=5,scoring='f1_macro')\n",
        "scores"
      ],
      "execution_count": 51,
      "outputs": [
        {
          "output_type": "execute_result",
          "data": {
            "text/plain": [
              "array([0.5390873 , 0.52433281, 0.54887218, 0.54959464, 0.63869932])"
            ]
          },
          "metadata": {
            "tags": []
          },
          "execution_count": 51
        }
      ]
    },
    {
      "cell_type": "code",
      "metadata": {
        "id": "KvIAwl4Zg95b",
        "colab_type": "code",
        "colab": {}
      },
      "source": [
        "from sklearn.model_selection import KFold, StratifiedKFold, LeaveOneOut\n",
        "from sklearn.metrics import recall_score,accuracy_score,precision_score,f1_score"
      ],
      "execution_count": 52,
      "outputs": []
    },
    {
      "cell_type": "code",
      "metadata": {
        "id": "IBwb7ax5hzlv",
        "colab_type": "code",
        "colab": {}
      },
      "source": [
        "#k-fold cross validation\n",
        "from sklearn.model_selection import KFold\n",
        "kf= KFold(n_splits=5)\n",
        "kf.split(normalised_train_df)\n",
        "f1_scores =[]\n",
        "for train_index,test_index in kf.split(normalised_train_df):\n",
        "  x_train_kfold,x_test_kfold=normalised_train_df.iloc[train_index],normalised_train_df.iloc[test_index]\n",
        "  y_train_kfold,y_test_kfold = y_balanced[train_index],y_balanced[test_index]\n",
        "  model = LogisticRegression().fit(x_train_kfold,y_train_kfold)\n",
        "  f1_scores.append(f1_score(y_test_kfold,model.predict(x_test_kfold),pos_label='2A')*100)\n"
      ],
      "execution_count": 55,
      "outputs": []
    },
    {
      "cell_type": "code",
      "metadata": {
        "id": "_HhFaiXkkXR5",
        "colab_type": "code",
        "colab": {}
      },
      "source": [
        "from sklearn.model_selection import KFold \n",
        "f1_scores =[]\n",
        "kf = KFold(n_splits=5)\n",
        "for train_index,test_index in kf.split(normalised_train_df):\n",
        "  x_train_fold,x_test_fold = normalised_train_df.iloc[train_index],normalised_train_df.iloc[test_index]\n",
        "  y_train_fold,y_test_fold = y_balanced[train_index],y_balanced[test_index]\n",
        "  model = sklearn.linear_model.LogisticRegression().fit(x_train_fold,y_train_fold)\n",
        "  f1_scores.append(f1_score(y_test_fold,model.predict(x_test_fold),pos_label='2A')*100)"
      ],
      "execution_count": 68,
      "outputs": []
    },
    {
      "cell_type": "code",
      "metadata": {
        "id": "rX4O4LuNpdLG",
        "colab_type": "code",
        "colab": {}
      },
      "source": [
        "# stratified k_fold cross validation\n",
        "from sklearn.model_selection import StratifiedKFold\n",
        "sk = StratifiedKFold(n_splits=5,shuffle=True,random_state=1)\n",
        "scores = []\n",
        "for train_index,test_index in sk.split(normalised_train_df,y_balanced):\n",
        "  x_train_sk,x_test_sk = normalised_train_df.iloc[train_index],normalised_train_df.iloc[test_index]\n",
        "  y_train_sk,y_test_sk= y_balanced[train_index],y_balanced[test_index]\n",
        "  model = sklearn.linear_model.LogisticRegression().fit(x_train_sk,y_train_sk)\n",
        "  f1_scores.append(f1_score(y_test_sk,model.predict(x_test_sk),pos_label='2A')*100,)"
      ],
      "execution_count": 73,
      "outputs": []
    },
    {
      "cell_type": "markdown",
      "metadata": {
        "id": "ddg3ozFls-R8",
        "colab_type": "text"
      },
      "source": [
        "Leave one out cross validation (LOOCV)"
      ]
    },
    {
      "cell_type": "code",
      "metadata": {
        "id": "tU-V4FtDtEiv",
        "colab_type": "code",
        "colab": {
          "base_uri": "https://localhost:8080/",
          "height": 34
        },
        "outputId": "f36d1109-5953-46de-a0d7-51cf539cea5f"
      },
      "source": [
        "from sklearn.model_selection import LeaveOneOut\n",
        "loo= LeaveOneOut()\n",
        "score = cross_val_score(LogisticRegression(),normalised_train_df,y_balanced,cv=loo,scoring='f1_macro')\n",
        "average_score = score.mean()\n",
        "average_score"
      ],
      "execution_count": 79,
      "outputs": [
        {
          "output_type": "execute_result",
          "data": {
            "text/plain": [
              "0.5617529880478087"
            ]
          },
          "metadata": {
            "tags": []
          },
          "execution_count": 79
        }
      ]
    },
    {
      "cell_type": "code",
      "metadata": {
        "id": "3u9Dq7zlv7JM",
        "colab_type": "code",
        "colab": {}
      },
      "source": [
        "from sklearn.metrics import confusion_matrix"
      ],
      "execution_count": 81,
      "outputs": []
    },
    {
      "cell_type": "code",
      "metadata": {
        "id": "0E08GWN-vC7M",
        "colab_type": "code",
        "colab": {
          "base_uri": "https://localhost:8080/",
          "height": 52
        },
        "outputId": "7d4773e7-03de-4b9f-e83c-91bc65b471b7"
      },
      "source": [
        "new_predictions = log_reg.predict(normalised_test_df)\n",
        "cnf_mat = confusion_matrix(y_true=y_test,y_pred=new_predictions ,labels=['2A','3A'])\n",
        "cnf_mat"
      ],
      "execution_count": 84,
      "outputs": [
        {
          "output_type": "execute_result",
          "data": {
            "text/plain": [
              "array([[38, 40],\n",
              "       [49, 50]])"
            ]
          },
          "metadata": {
            "tags": []
          },
          "execution_count": 84
        }
      ]
    },
    {
      "cell_type": "code",
      "metadata": {
        "id": "A6A5e2ZbvBRT",
        "colab_type": "code",
        "colab": {
          "base_uri": "https://localhost:8080/",
          "height": 34
        },
        "outputId": "d329ff2e-b5cd-4874-8a23-f6639d316cd8"
      },
      "source": [
        "# Accuracy \n",
        "accuracy = accuracy_score(y_true=y_test,y_pred=new_predictions)\n",
        "accuracy"
      ],
      "execution_count": 86,
      "outputs": [
        {
          "output_type": "execute_result",
          "data": {
            "text/plain": [
              "0.4971751412429379"
            ]
          },
          "metadata": {
            "tags": []
          },
          "execution_count": 86
        }
      ]
    },
    {
      "cell_type": "code",
      "metadata": {
        "id": "3ie3KbPQwqaq",
        "colab_type": "code",
        "colab": {
          "base_uri": "https://localhost:8080/",
          "height": 34
        },
        "outputId": "395e8f23-7cb3-45ee-fa16-df315d38fb94"
      },
      "source": [
        "#precision \n",
        "precision = precision_score(y_test,new_predictions,pos_label='2A')\n",
        "precision\n"
      ],
      "execution_count": 88,
      "outputs": [
        {
          "output_type": "execute_result",
          "data": {
            "text/plain": [
              "0.4367816091954023"
            ]
          },
          "metadata": {
            "tags": []
          },
          "execution_count": 88
        }
      ]
    },
    {
      "cell_type": "code",
      "metadata": {
        "id": "t5-mYFjIxc7S",
        "colab_type": "code",
        "colab": {
          "base_uri": "https://localhost:8080/",
          "height": 34
        },
        "outputId": "6adf3408-5158-4b73-ce3b-467003d27fdc"
      },
      "source": [
        "#recall \n",
        "recall = recall_score(y_test,new_predictions,pos_label='2A')\n",
        "recall"
      ],
      "execution_count": 89,
      "outputs": [
        {
          "output_type": "execute_result",
          "data": {
            "text/plain": [
              "0.48717948717948717"
            ]
          },
          "metadata": {
            "tags": []
          },
          "execution_count": 89
        }
      ]
    },
    {
      "cell_type": "code",
      "metadata": {
        "id": "zJPxDHLDxsk5",
        "colab_type": "code",
        "colab": {
          "base_uri": "https://localhost:8080/",
          "height": 34
        },
        "outputId": "b193b5b1-c2a4-4c0e-d45f-e10490085113"
      },
      "source": [
        "#f1_score \n",
        "f1_score = f1_score(y_test,new_predictions,pos_label='2A')\n",
        "f1_score"
      ],
      "execution_count": 91,
      "outputs": [
        {
          "output_type": "execute_result",
          "data": {
            "text/plain": [
              "0.46060606060606063"
            ]
          },
          "metadata": {
            "tags": []
          },
          "execution_count": 91
        }
      ]
    }
  ]
}